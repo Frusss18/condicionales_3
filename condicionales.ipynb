{
 "cells": [
  {
   "cell_type": "code",
   "execution_count": 6,
   "metadata": {},
   "outputs": [
    {
     "name": "stdout",
     "output_type": "stream",
     "text": [
      "Hoy es tu cumpleaños\n",
      "True\n"
     ]
    }
   ],
   "source": [
    "#EJERSICIO 1\n",
    "\n",
    "fec=input(\"¿Que fecha es hoy?\")\n",
    "cum=input(\"¿Que fecha naciste?\")\n",
    "if cum<fec: \n",
    "    print (\"Hoy es tu cumpleaños\")\n",
    "else:\n",
    " print(\"Hoy no es tu cumpleaños\")\n",
    "print(fec>cum)"
   ]
  },
  {
   "cell_type": "code",
   "execution_count": 13,
   "metadata": {},
   "outputs": [
    {
     "name": "stdout",
     "output_type": "stream",
     "text": [
      "7.0 * 5.0 = 35.0\n",
      "0 + 35.0 = 35.0\n"
     ]
    }
   ],
   "source": [
    "#EJERSICIO 2\n",
    "\n",
    "n1=float(input(\"Ingresa un numero: \"))\n",
    "n2=float(input(\"Ingresa otro numero: \"))\n",
    "\n",
    "res = n1 * n2\n",
    "print(f\"{n1} * {n2} = {res}\")\n",
    "\n",
    "for i in range(int(res)):\n",
    "    if i + (res - i) == res:\n",
    "        print(f\"{i} + {res - i} = {res}\")\n",
    "        break\n"
   ]
  },
  {
   "cell_type": "code",
   "execution_count": 2,
   "metadata": {},
   "outputs": [
    {
     "name": "stdout",
     "output_type": "stream",
     "text": [
      "upsss 😞, debido a tu código postal no se puede concretar la  entrega, en tu domicilio .\n"
     ]
    }
   ],
   "source": [
    "#EJERSICIO 3\n",
    "\n",
    "\n",
    "cp= float(input(\"Ingresa tu codigo postal:\" ))\n",
    "    \n",
    "if 50000 <= cp <= 50030:\n",
    "    print(\"!!! Tu paquete sera entregado en la direccion de el codigo postal proporcionado ¡¡¡\")\n",
    "else:\n",
    "    print(\"!!! Upsss 😞, debido a tu código postal no se puede concretar la  entrega, en tu domicilio ¡¡¡\")"
   ]
  }
 ],
 "metadata": {
  "kernelspec": {
   "display_name": "Python 3",
   "language": "python",
   "name": "python3"
  },
  "language_info": {
   "codemirror_mode": {
    "name": "ipython",
    "version": 3
   },
   "file_extension": ".py",
   "mimetype": "text/x-python",
   "name": "python",
   "nbconvert_exporter": "python",
   "pygments_lexer": "ipython3",
   "version": "3.11.3"
  }
 },
 "nbformat": 4,
 "nbformat_minor": 2
}
